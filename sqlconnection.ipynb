{
 "cells": [
  {
   "cell_type": "code",
   "execution_count": 8,
   "metadata": {},
   "outputs": [
    {
     "name": "stdout",
     "output_type": "stream",
     "text": [
      "Requirement already satisfied: pymysql in d:\\vscode\\.venv\\lib\\site-packages (1.1.1)\n",
      "Note: you may need to restart the kernel to use updated packages.\n"
     ]
    },
    {
     "name": "stderr",
     "output_type": "stream",
     "text": [
      "\n",
      "[notice] A new release of pip is available: 24.1.2 -> 24.2\n",
      "[notice] To update, run: python.exe -m pip install --upgrade pip\n"
     ]
    }
   ],
   "source": [
    "pip install pymysql"
   ]
  },
  {
   "cell_type": "code",
   "execution_count": 1,
   "metadata": {},
   "outputs": [],
   "source": [
    "import pandas as pd\n",
    "import pymysql\n",
    "\n",
    "import pandas as pd\n",
    "import pymysql\n",
    "\n",
    "# List of CSV file paths\n",
    "csv_files = [\n",
    "    \"AP_bus_details.csv\", \"assam_bus_details.csv\", \"chandigarh_bus_details.csv\",\n",
    "    \"himachal_bus_details.csv\", \"kaac_bus_details.csv\", \"kerala_bus_details.csv\",\n",
    "    \"rajasthan_bus_details.csv\", \"sb_bus_details.csv\", \"Telangana_bus_details.csv\",\n",
    "    \"up_bus_details.csv\", \"wb_bus_details.csv\", \"wb2_bus_details.csv\", \"jk_bus_details.csv\"\n",
    "]\n",
    "\n",
    "# Read each CSV file into a DataFrame and store it in a list\n",
    "df_list = [pd.read_csv(file) for file in csv_files]\n",
    "\n",
    "# Concatenate all DataFrames in the list\n",
    "combined_df = pd.concat(df_list, ignore_index=True)\n",
    "\n",
    "# Add id column\n",
    "combined_df.insert(0, 'id', range(1, len(combined_df) + 1))\n",
    "\n",
    "# Save to a CSV file\n",
    "combined_df.to_csv(\"bus_routes.csv\", index=False)\n",
    "\n",
    "# Read the CSV file again for further processing\n",
    "df = pd.read_csv(\"bus_routes.csv\")\n",
    "\n",
    "# Replace string 'INR ' with empty string in 'Price' column\n",
    "df['Price'] = df['Price'].str.replace('INR ', '', regex=False)\n",
    "\n",
    "# Extract digits (0-9) from 'Seat_Availability' using a raw string\n",
    "df['Seat_Availability'] = df['Seat_Availability'].str.extract(r'(\\d+)')\n",
    "\n",
    "# Handle NaN values before inserting into the database\n",
    "df.fillna(value=0, inplace=True)  # You can choose a more appropriate value if needed\n",
    "\n",
    "# Python MySQL connection\n",
    "myconnection = pymysql.connect(host='localhost', user='root', passwd='1234', database=\"redbus\")\n",
    "\n",
    "# Create a cursor for executing SQL queries\n",
    "cursor = myconnection.cursor()\n",
    "\n",
    "# Create table in MySQL\n",
    "column_types = \",\".join(f\"{i} {j}\" for i, j in zip(df.columns, df.dtypes)).replace(\"float64\", \"FLOAT\").replace(\"object\", \"TEXT\").replace(\"int64\", \"INT\")\n",
    "table_name = \"bus_routes\"\n",
    "create_table_query = f\"CREATE TABLE IF NOT EXISTS {table_name} ({column_types})\"\n",
    "cursor.execute(create_table_query)\n",
    "\n",
    "# Insert data into MySQL table\n",
    "insert_query = f\"INSERT INTO {table_name} ({', '.join(df.columns)}) VALUES ({', '.join(['%s'] * len(df.columns))})\"\n",
    "for row in df.itertuples(index=False, name=None):\n",
    "    cursor.execute(insert_query, row)\n",
    "\n",
    "# Commit the changes\n",
    "myconnection.commit()\n",
    "\n",
    "# Close the cursor and connection\n",
    "cursor.close()\n",
    "myconnection.close()\n"
   ]
  },
  {
   "cell_type": "code",
   "execution_count": null,
   "metadata": {},
   "outputs": [],
   "source": []
  }
 ],
 "metadata": {
  "kernelspec": {
   "display_name": ".venv",
   "language": "python",
   "name": "python3"
  },
  "language_info": {
   "codemirror_mode": {
    "name": "ipython",
    "version": 3
   },
   "file_extension": ".py",
   "mimetype": "text/x-python",
   "name": "python",
   "nbconvert_exporter": "python",
   "pygments_lexer": "ipython3",
   "version": "3.12.6"
  }
 },
 "nbformat": 4,
 "nbformat_minor": 2
}
